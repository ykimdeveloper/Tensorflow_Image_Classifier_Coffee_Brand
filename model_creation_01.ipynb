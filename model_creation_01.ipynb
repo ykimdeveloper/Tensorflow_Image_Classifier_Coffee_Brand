{
 "cells": [
  {
   "cell_type": "code",
   "execution_count": 54,
   "metadata": {
    "collapsed": true
   },
   "outputs": [],
   "source": [
    "import tensorflow as tf\n",
    "from scripts import label_image\n",
    "\n",
    "import os\n",
    "\n",
    "# Project settings\n",
    "project_path = os.getcwd()\n",
    "\n",
    "# ImageNet settings\n",
    "image_size = 128 # '224', '192', '160', or '128' px\n",
    "\n",
    "mobilenet_version = '0.50' # versions possible: '1.0', '0.75', '0.50'\n",
    "architecture = f'mobilenet_{mobilenet_version}_{image_size}'"
   ]
  },
  {
   "cell_type": "code",
   "execution_count": null,
   "metadata": {
    "collapsed": true
   },
   "outputs": [],
   "source": [
    "%%bash\n",
    "echo python -m scripts.retrain \\                       \n",
    "  --bottleneck_dir=tf_files/bottlenecks \\\n",
    "  --how_many_training_steps=500 \\\n",
    "  --model_dir=tf_files/models/ \\\n",
    "  --summaries_dir=tf_files/training_summaries/\"${ARCHITECTURE}\" \\\n",
    "  --output_graph=tf_files/retrained_graph.pb \\\n",
    "  --output_labels=tf_files/retrained_labels.txt \\\n",
    "  --architecture=\"${ARCHITECTURE}\" \\\n",
    "  --image_dir=tf_files/test"
   ]
  },
  {
   "cell_type": "markdown",
   "metadata": {},
   "source": [
    "INFO:tensorflow:2017-12-04 03:28:26.086613: Step 499: Train accuracy = 100.0%\n",
    "INFO:tensorflow:2017-12-04 03:28:26.086770: Step 499: Cross entropy = 0.001410\n",
    "INFO:tensorflow:2017-12-04 03:28:26.131517: Step 499: Validation accuracy = 72.0% (N=100)\n",
    "INFO:tensorflow:Final test accuracy = 95.2% (N=21)\n",
    "INFO:tensorflow:Froze 2 variables."
   ]
  },
  {
   "cell_type": "code",
   "execution_count": null,
   "metadata": {
    "collapsed": true
   },
   "outputs": [],
   "source": [
    "image_url = 'imagenet/tf_files/coffee_companies/roses/2414954629_3708a1a04d.jpg'"
   ]
  },
  {
   "cell_type": "code",
   "execution_count": 55,
   "metadata": {},
   "outputs": [
    {
     "name": "stdout",
     "output_type": "stream",
     "text": [
      "python -m scripts.label_image --graph=tf_files/retrained_graph.pb --image=tf_files/coffee_companies/starbucks/images (31).jpg\n"
     ]
    }
   ],
   "source": [
    "%%bash\n",
    "echo python -m scripts.label_image \\\n",
    "    --graph='tf_files/retrained_graph.pb'  \\\n",
    "    --image='tf_files/test/1.jpg'"
   ]
  },
  {
   "cell_type": "code",
   "execution_count": null,
   "metadata": {
    "collapsed": true
   },
   "outputs": [],
   "source": [
    "peets coffee 0.999745\n",
    "starbucks 0.000184728\n",
    "coffee bean 7.04684e-05\n",
    "dunkin donuts 5.55596e-09\n"
   ]
  },
  {
   "cell_type": "code",
   "execution_count": null,
   "metadata": {
    "collapsed": true
   },
   "outputs": [],
   "source": []
  },
  {
   "cell_type": "code",
   "execution_count": null,
   "metadata": {
    "collapsed": true
   },
   "outputs": [],
   "source": []
  },
  {
   "cell_type": "code",
   "execution_count": null,
   "metadata": {
    "collapsed": true
   },
   "outputs": [],
   "source": []
  },
  {
   "cell_type": "code",
   "execution_count": null,
   "metadata": {
    "collapsed": true
   },
   "outputs": [],
   "source": []
  }
 ],
 "metadata": {
  "kernelspec": {
   "display_name": "Python 3",
   "language": "python",
   "name": "python3"
  },
  "language_info": {
   "codemirror_mode": {
    "name": "ipython",
    "version": 3
   },
   "file_extension": ".py",
   "mimetype": "text/x-python",
   "name": "python",
   "nbconvert_exporter": "python",
   "pygments_lexer": "ipython3",
   "version": "3.6.2"
  }
 },
 "nbformat": 4,
 "nbformat_minor": 2
}
